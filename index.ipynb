{
 "cells": [
  {
   "cell_type": "markdown",
   "metadata": {},
   "source": [
    "# <center> Python Bokeh\n",
    "<img src=\"image/bokeh.png\" style=\"width: 600px;\">"
   ]
  },
  {
   "cell_type": "markdown",
   "metadata": {},
   "source": [
    "### 1. Introduction"
   ]
  },
  {
   "cell_type": "markdown",
   "metadata": {},
   "source": [
    "As a GIS programmer, I often find that I have to dedicate my time learning data visualization libraries in order to create maps. There are lots of visualization libaries out there in Python community, such as `Matplotlib` and `Folium`, can help us to do. However, most of these libaries do not provide interactivity. This is problematic as people nowadays expect they can \"interact\" with maps on screen, such as constantly zoom in/out and get feature informaion through hovering on them. Luckily, there is a Python libarary called `Bokeh` that is able to create such interactive maps painlessly.  \n",
    "\n",
    "This Jupyter Notebook is designed for people who are interested in creaing maps using `Bokeh`. Readers are assumed to already be familiar with `Geopandas`. The purpose of this notebook is to help you learn `Bokeh` quickly through several examples. You are encouraged to read more at `Bokeh` [official website](https://docs.bokeh.org/en/latest/index.html) if you want to learn it from scratch. "
   ]
  },
  {
   "cell_type": "markdown",
   "metadata": {},
   "source": [
    "### 2. Bokeh brief introduction\n",
    "\n",
    "`Bokeh` is an interactive visualization library for modern web browsers. It provides elegant, concise construction of versatile graphics, and affords high-performance interactivity over large or streaming datasets. \n",
    "\n",
    "To offer both simplicity and the powerful and flexible features needed for advanced customizations, `Bokeh` exposes two interface levels to users:\n",
    "\n",
    "- `bokeh.models`: A *low-level* interface that provides the most flexibility to application developers.\n",
    "- `bokeh.plotting`: A *high-level* interface centered around composing visual glyphs. "
   ]
  },
  {
   "cell_type": "markdown",
   "metadata": {},
   "source": [
    "### 3. Examples"
   ]
  },
  {
   "cell_type": "markdown",
   "metadata": {},
   "source": [
    "#### 3.1 Basic plotting\n",
    "We first look at a simple example to understand the basic usage of `Bokeh`. "
   ]
  },
  {
   "cell_type": "code",
   "execution_count": null,
   "metadata": {
    "scrolled": true
   },
   "outputs": [],
   "source": [
    "# Import necessary functionalities from bokeh\n",
    "# You will use these functionalities nearly every time whenever you plot with bokeh\n",
    "from bokeh.plotting import figure\n",
    "from bokeh.io import output_notebook, show\n",
    "output_notebook()"
   ]
  },
  {
   "cell_type": "markdown",
   "metadata": {},
   "source": [
    "- `bokeh.plotting.figure`: Create a new Figure for plotting\n",
    "- `bokeh.io.output_notebook`: Configure the default output state to generate output in notebook cells when `bokeh.io.show()` is called.\n",
    "- `bokeh.io.show`: Immediately display a Bokeh object or application. "
   ]
  },
  {
   "cell_type": "code",
   "execution_count": null,
   "metadata": {},
   "outputs": [],
   "source": [
    "# Initialize the plot and give it a title, and the height and width\n",
    "p = figure(title = \"Test\", plot_height = 400, plot_width = 400)\n",
    "# In Bokeh, drawing geometry is always done using list(s) of x and y\n",
    "# Create a list of x-coordinates and y-coordinates\n",
    "x_coords = [0, 1, 2, 3, 4]\n",
    "y_coords = [5, 4, 1, 2, 0]\n",
    "\n",
    "# Plot the points\n",
    "p.circle(x= x_coords, y= y_coords, size = 10, color = \"red\")\n",
    "\n",
    "# Show the figure\n",
    "show(p)"
   ]
  },
  {
   "cell_type": "markdown",
   "metadata": {},
   "source": [
    "#### 3.2 Create a simple interactive point map using Bokeh and Geopandas\n",
    "\n",
    "`Bokeh` has started adding support for working with geographic data. In the following examples, we will use shapefiles to create several maps.\n",
    "\n",
    "Creating an interactive `Bokeh` map from shapefiles contains typically following steps: \n",
    "1. Read a shapefile into `Geopandas` geodataframe.\n",
    "2. Calculate the x and y coordinates of the geometries into separate columns.\n",
    "3. Convert the geodataframe into a `Bokeh` datasource.\n",
    "4. Plot the x and y coordinates as points, lines or polygons (which are in `Bokeh` words: **circle**, **multi_line**, and **patches**)\n",
    "\n",
    "*Note*: You can skip step 2 and 3 by implementing `Bokeh`'s `GeoJSONDataSource`. This data structure can be used almost seamlessly in place of `Bokeh`'s `ColumnDataSource`."
   ]
  },
  {
   "cell_type": "markdown",
   "metadata": {},
   "source": [
    "##### 3.2.1 Plot the points"
   ]
  },
  {
   "cell_type": "code",
   "execution_count": null,
   "metadata": {},
   "outputs": [],
   "source": [
    "# Import modules\n",
    "import geopandas as gpd\n",
    "from bokeh.models import ColumnDataSource"
   ]
  },
  {
   "cell_type": "markdown",
   "metadata": {},
   "source": [
    "- `bokeh.models.ColumnDataSource`: A fundamental data structure of Bokeh. Maps names of columns to sequences or arrays. "
   ]
  },
  {
   "cell_type": "code",
   "execution_count": null,
   "metadata": {},
   "outputs": [],
   "source": [
    "# 1. Read the shapefile\n",
    "point_gdf = gpd.read_file(\"L5_data/schools_tartu.shp\")\n",
    "point_gdf = point_gdf.drop(['X', 'y'], axis = 1)\n",
    "point_gdf.head(1)"
   ]
  },
  {
   "cell_type": "code",
   "execution_count": null,
   "metadata": {},
   "outputs": [],
   "source": [
    "# 2. Extract out x and y values from the point shapefile\n",
    "def getPointCoords(row, geom, coord_type):\n",
    "    if coord_type == 'x':\n",
    "        return row[geom].x\n",
    "    elif coord_type == 'y':\n",
    "        return row[geom].y"
   ]
  },
  {
   "cell_type": "code",
   "execution_count": null,
   "metadata": {},
   "outputs": [],
   "source": [
    "# Using pandas apply function to extract out x and y\n",
    "point_gdf['x'] = point_gdf.apply(getPointCoords, \n",
    "                              geom = \"geometry\", \n",
    "                              coord_type = 'x', axis=1)\n",
    "point_gdf['y'] = point_gdf.apply(getPointCoords, \n",
    "                              geom = \"geometry\", \n",
    "                              coord_type = 'y', axis=1)\n",
    "point_gdf.head(1)"
   ]
  },
  {
   "cell_type": "code",
   "execution_count": null,
   "metadata": {},
   "outputs": [],
   "source": [
    "# 3. Convert the dataframe into a format that Bokeh can understand\n",
    "# The format is ColumnDataSource\n",
    "\n",
    "# Drop the Shapely geometry-objects in that ColumnDataSource does not understand it\n",
    "point_gdf = point_gdf.drop(\"geometry\", axis=1)\n",
    "psource = ColumnDataSource(point_gdf)"
   ]
  },
  {
   "cell_type": "code",
   "execution_count": null,
   "metadata": {},
   "outputs": [],
   "source": [
    "# 4. Plot it out\n",
    "p = figure(title = \"A map of school location points\", \n",
    "           plot_height = 400, plot_width = 400)\n",
    "\n",
    "# Add the points to the map from ColumnDataSource object\n",
    "# x/y denotes the x/y-axis coordinates for the center of the markers\n",
    "p.circle(x = 'x', y = 'y', source = psource, color = 'red', size = 10)\n",
    "\n",
    "show(p)"
   ]
  },
  {
   "cell_type": "markdown",
   "metadata": {},
   "source": [
    "##### 3.2.2 Add the interactivity\n",
    "\n",
    "In `Bokeh`, there are specific set of plot tools that you can add to the plot. "
   ]
  },
  {
   "cell_type": "code",
   "execution_count": null,
   "metadata": {},
   "outputs": [],
   "source": [
    "# Import tool\n",
    "from bokeh.models import HoverTool"
   ]
  },
  {
   "cell_type": "code",
   "execution_count": null,
   "metadata": {},
   "outputs": [],
   "source": [
    "# Initialize the tool\n",
    "my_hover = HoverTool()\n",
    "# Tell the Hovertool that what information it should show to us.\n",
    "my_hover.tooltips = [(\"Name of the school\", \"@name\")]"
   ]
  },
  {
   "cell_type": "markdown",
   "metadata": {},
   "source": [
    "**_Note_**: `tooltip `should be defined with a list of tuples where the first item is the name or label for the information that will be shown, and the second item is the *column-name* where that information should be read in the data. The @ character in front of the column-name is important as it tells that the information should be taken from a column."
   ]
  },
  {
   "cell_type": "code",
   "execution_count": null,
   "metadata": {},
   "outputs": [],
   "source": [
    "# Add the tool to the plot\n",
    "p.add_tools(my_hover)\n",
    "show(p)"
   ]
  },
  {
   "cell_type": "markdown",
   "metadata": {},
   "source": [
    "#### 3.3 Create a simple interactive polygon map with points using Bokeh and Geopandas"
   ]
  },
  {
   "cell_type": "code",
   "execution_count": null,
   "metadata": {},
   "outputs": [],
   "source": [
    "# 1. Read the shapefiles\n",
    "point_gdf = gpd.read_file(\"L5_data/schools_tartu.shp\")\n",
    "polygon_gdf = gpd.read_file(\"L5_data/population_square_km.shp\")\n",
    "polygon_gdf.head(1)"
   ]
  },
  {
   "cell_type": "markdown",
   "metadata": {},
   "source": [
    "We first need to make sure two data sources are in the same coordinate system"
   ]
  },
  {
   "cell_type": "code",
   "execution_count": null,
   "metadata": {},
   "outputs": [],
   "source": [
    "# 2. Make sure they are in the same coordinate reference\n",
    "point_CRS = point_gdf.crs\n",
    "polygon_CRS = polygon_gdf.crs\n",
    "\n",
    "if point_CRS == polygon_CRS:\n",
    "    pass\n",
    "elif point_CRS != polygon_CRS:\n",
    "    point_gdf = point_gdf.to_crs(\"EPSG:{}\".format(CRS.to_epsg()))"
   ]
  },
  {
   "cell_type": "code",
   "execution_count": null,
   "metadata": {},
   "outputs": [],
   "source": [
    "# 3. Extract out x and y values from the point shapefile\n",
    "def getPointCoords(row, geom, coord_type):\n",
    "    if coord_type == 'x':\n",
    "        return row[geom].x\n",
    "    elif coord_type == 'y':\n",
    "        return row[geom].y"
   ]
  },
  {
   "cell_type": "code",
   "execution_count": null,
   "metadata": {},
   "outputs": [],
   "source": [
    "# Run the funciton to extract x and y from the point shapefile\n",
    "point_gdf['x'] = point_gdf.apply(getPointCoords, \n",
    "                              geom = \"geometry\", \n",
    "                              coord_type = 'x', axis=1)\n",
    "point_gdf['y'] = point_gdf.apply(getPointCoords, \n",
    "                              geom = \"geometry\", \n",
    "                              coord_type = 'y', axis=1)"
   ]
  },
  {
   "cell_type": "code",
   "execution_count": null,
   "metadata": {},
   "outputs": [],
   "source": [
    "# 4. Extract out x and y values from the polygon shapefile\n",
    "def getPolyCoords(row, geom, coord_type):\n",
    "    \"\"\"Returns the coordinates of edges of a Polygon exterior\"\"\"\n",
    "    # Parse the exterior of the coordinate\n",
    "    exterior = row[geom].exterior\n",
    "    \n",
    "    if coord_type == 'x':\n",
    "        return list(exterior.coords.xy[0])\n",
    "    elif coord_type == 'y':\n",
    "        return list(exterior.coords.xy[1])"
   ]
  },
  {
   "cell_type": "code",
   "execution_count": null,
   "metadata": {},
   "outputs": [],
   "source": [
    "# Run the funciton to extract x and y from the polygon shapefile\n",
    "polygon_gdf['x'] = polygon_gdf.apply(getPolyCoords, geom='geometry', \n",
    "                                     coord_type='x', axis=1)\n",
    "polygon_gdf['y'] = polygon_gdf.apply(getPolyCoords, geom='geometry',\n",
    "                                     coord_type='y', axis=1)"
   ]
  },
  {
   "cell_type": "code",
   "execution_count": null,
   "metadata": {},
   "outputs": [],
   "source": [
    "# 5. Convert the geodataframes to ColumnDataSource\n",
    "point_gdf = point_gdf.drop(\"geometry\", axis=1)\n",
    "point_source = ColumnDataSource(point_gdf)\n",
    "\n",
    "polygon_gdf = polygon_gdf.drop(\"geometry\", axis=1)\n",
    "polygon_source = ColumnDataSource(polygon_gdf)"
   ]
  },
  {
   "cell_type": "code",
   "execution_count": null,
   "metadata": {},
   "outputs": [],
   "source": [
    "# 6. Define the color palette to classify the polygons\n",
    "from bokeh.palettes import RdYlBu11 as palette\n",
    "from bokeh.models import LogColorMapper\n",
    "\n",
    "# Create the color mapper\n",
    "color_mapper = LogColorMapper(palette = palette)"
   ]
  },
  {
   "cell_type": "markdown",
   "metadata": {},
   "source": [
    "- `bokeh.palettes` provide a collection of palettes for color mapping. This module contains the following sets of palettes:\n",
    "    1. All *Color Brewer* palettes\n",
    "    2. Categorical *D3* palettes\n",
    "    3. The *Matplotlib* palettes Magma, Inferno, Plasma, and Viridis\n",
    "    4. Palettes designed for color-deficient usability\n",
    "    \n",
    "    \n",
    "- `bokeh.models.LogColorMapper` maps numbers in a range into a sequence of colors on a natural logarithm scale"
   ]
  },
  {
   "cell_type": "code",
   "execution_count": null,
   "metadata": {},
   "outputs": [],
   "source": [
    "# 7. Add the hover tools\n",
    "# Initialize the hover tools\n",
    "point_hover = HoverTool()\n",
    "polygon_hover = HoverTool()\n",
    "\n",
    "# Set names to the hover tools\n",
    "point_hover.names = [\"point\"]\n",
    "polygon_hover.names = [\"polygon\"]\n",
    "\n",
    "# Tell the Hovertool that what information it should show to us.\n",
    "point_hover.tooltips = [(\"Name of the school\", \"@name\")]\n",
    "polygon_hover.tooltips = [(\"Population Density\", \"@Population\")]"
   ]
  },
  {
   "cell_type": "markdown",
   "metadata": {},
   "source": [
    "- If set the name to a `Hovertools`, only renderers that have a matching value for their \"name\" attribute will be used."
   ]
  },
  {
   "cell_type": "code",
   "execution_count": null,
   "metadata": {},
   "outputs": [],
   "source": [
    "# 8. Add the tiled basemap\n",
    "from bokeh.tile_providers import Vendors, get_provider\n",
    "\n",
    "# Get the provider tile\n",
    "tile_provider = get_provider(Vendors.CARTODBPOSITRON_RETINA)"
   ]
  },
  {
   "cell_type": "markdown",
   "metadata": {},
   "source": [
    "- `bokeh.tile_providers`: provides pre-rendered tile sources for common third party tile services.\n",
    "- `bokeh.tile.get_provider`: Use this function to retrieve an instance of a perdefined tile provider. \n",
    "- `bokeh.tile.Vendors`: Name of the tile provider to supply."
   ]
  },
  {
   "cell_type": "code",
   "execution_count": null,
   "metadata": {},
   "outputs": [],
   "source": [
    "# Initialize the figure\n",
    "p = figure(title = \"Polygons with Points\", \n",
    "           plot_height = 400, plot_width = 400)\n",
    "\n",
    "# Deactivate grid line and axes\n",
    "p.xgrid.visible = False \n",
    "p.ygrid.visible = False\n",
    "p.axis.visible = False\n",
    "\n",
    "# Add the tile\n",
    "p.add_tile(tile_provider)\n",
    "\n",
    "# Plot the polygons\n",
    "p.patches('x', 'y', source = polygon_source, \n",
    "          fill_color = {'field':'Population', \n",
    "                        'transform': color_mapper}, \n",
    "          fill_alpha = 1.0, line_color = None, line_width = 0.85, \n",
    "          name = \"polygon\")\n",
    "\n",
    "# Add the points on top of the polygon\n",
    "p.circle('x', 'y', source = point_source, color = 'yellow', name = \"point\")\n",
    "\n",
    "# Add the hover tool\n",
    "p.add_tools(point_hover)\n",
    "p.add_tools(polygon_hover)\n",
    "\n",
    "show(p)"
   ]
  },
  {
   "cell_type": "markdown",
   "metadata": {},
   "source": [
    "#### 3.4 Visualize fields in a given tile"
   ]
  },
  {
   "cell_type": "markdown",
   "metadata": {},
   "source": [
    "The shapefile we are going to visualize is one of the deliverables from the **Everyfield** project led by Professor Eric Shook at University of Minnesota. This shapefile contains more than eighty thousands features and these features represents fields in given tile in Minnesota. \n",
    "\n",
    "We will create two maps using two different methods. The first method is using `Geopandas` built-in function and the other is using `Bokeh`. You can compare the differences between the two and think which one is suitable  "
   ]
  },
  {
   "cell_type": "markdown",
   "metadata": {},
   "source": [
    "##### 3.4.1 Using `Geopandas` built-in plot function"
   ]
  },
  {
   "cell_type": "code",
   "execution_count": null,
   "metadata": {},
   "outputs": [],
   "source": [
    "# Import modules\n",
    "import geopandas as gpd\n",
    "import contextily as ctx\n",
    "from matplotlib import pyplot as plt\n",
    "\n",
    "%matplotlib inline\n",
    "%config InlineBackend.figure_format = 'retina'"
   ]
  },
  {
   "cell_type": "code",
   "execution_count": null,
   "metadata": {},
   "outputs": [],
   "source": [
    "# Load the filed shapefile into GeoDataFrame\n",
    "field_gdf = gpd.read_file(\"TQT_nir_seg_map_v5/TQT_nir_seg_map_v5.shp\")"
   ]
  },
  {
   "cell_type": "markdown",
   "metadata": {},
   "source": [
    "Here, we use `plt.subplots` class to create a figure with a set of subplots (axes objects). By doing so, you can manipulate your figure and axes much easier. "
   ]
  },
  {
   "cell_type": "code",
   "execution_count": null,
   "metadata": {},
   "outputs": [],
   "source": [
    "# Create a figure and a set of subplots\n",
    "fig, ax = plt.subplots(figsize=(14, 10))\n",
    "\n",
    "# Convert the coordinate system to web mercator to fit contextily basemap\n",
    "field_gdf = field_gdf.to_crs(\"EPSG:3857\")\n",
    "\n",
    "# Plot the field polygons to the figure\n",
    "field_gdf.plot(ax=ax, legend = False)\n",
    "\n",
    "# Add base map under the feature layer\n",
    "ctx.add_basemap(ax, url=ctx.providers.CartoDB.DarkMatterNoLabels)\n",
    "\n",
    "# Deactivate the axis\n",
    "ax.axis(\"off\")\n",
    "ax.set_title(\"Fileds in TQT tile\", \n",
    "             fontdict={'fontsize': '20', 'fontweight': '5'}, \n",
    "             fontname=\"Times New Roman\")\n",
    "\n",
    "plt.show()"
   ]
  },
  {
   "cell_type": "markdown",
   "metadata": {},
   "source": [
    "##### 3.4.2 Using `Geopandas` with `Bokeh`"
   ]
  },
  {
   "cell_type": "code",
   "execution_count": null,
   "metadata": {
    "scrolled": true
   },
   "outputs": [],
   "source": [
    "# Import modules\n",
    "from bokeh.plotting import figure, output_notebook\n",
    "from bokeh.io import show\n",
    "from bokeh.models import GeoJSONDataSource, HoverTool\n",
    "\n",
    "output_notebook()"
   ]
  },
  {
   "cell_type": "markdown",
   "metadata": {},
   "source": [
    "- `bokeh.models.GeoJSONDataSource` makes it much easier to work and plot data from GeoDataFrame. You no longer need to extract x and y from geometry columns and convert geodataframes into `Bokeh` readable data structure: columndatasource. "
   ]
  },
  {
   "cell_type": "code",
   "execution_count": null,
   "metadata": {},
   "outputs": [],
   "source": [
    "# 1. convert geodataframe to geojson representation\n",
    "geosource = GeoJSONDataSource(geojson = field_gdf.to_json())"
   ]
  },
  {
   "cell_type": "code",
   "execution_count": null,
   "metadata": {},
   "outputs": [],
   "source": [
    "# 2. Find the range of x and y\n",
    "xrange = (min(field_gdf.bounds[[\"minx\", \"maxx\"]].values.flatten()),\n",
    "          max(field_gdf.bounds[[\"minx\", \"maxx\"]].values.flatten()))\n",
    "yrange = (min(field_gdf.bounds[[\"miny\", \"maxy\"]].values.flatten()),\n",
    "          max(field_gdf.bounds[[\"miny\", \"maxy\"]].values.flatten()))"
   ]
  },
  {
   "cell_type": "code",
   "execution_count": null,
   "metadata": {},
   "outputs": [],
   "source": [
    "# 3. Add a hover tool\n",
    "field_hover = HoverTool()\n",
    "field_hover.tooltips = [(\"Raster Value\", \"@raster_val\")]"
   ]
  },
  {
   "cell_type": "code",
   "execution_count": null,
   "metadata": {},
   "outputs": [],
   "source": [
    "# Initialize a figure object\n",
    "p = figure(title = \"Fileds in TQT tile\",\n",
    "           plot_height = 600 , plot_width = 600, \n",
    "           x_range = xrange, y_range = yrange,\n",
    "           toolbar_location = 'below',\n",
    "           tools = \"pan, wheel_zoom, zoom_in, zoom_out, box_zoom, reset\")\n",
    "\n",
    "# Style the title\n",
    "p.title.text_font = 'times'\n",
    "p.title.text_font_style = 'bold'\n",
    "p.title.text_font_size = '14pt'\n",
    "p.title.align = 'center'\n",
    "\n",
    "\n",
    "# Deactivate grid line and axis\n",
    "p.xgrid.visible = False \n",
    "p.ygrid.visible = False\n",
    "p.axis.visible = False\n",
    "\n",
    "# Add patch renderer to figure.\n",
    "states = p.patches('xs','ys', source = geosource,\n",
    "                   fill_color = '#1f77b4',\n",
    "                   line_color = 'gray', \n",
    "                   line_width = 0.25, \n",
    "                   fill_alpha = 1)\n",
    "\n",
    "# Add the hover tool\n",
    "p.add_tools(field_hover)\n",
    "\n",
    "show(p)"
   ]
  },
  {
   "cell_type": "markdown",
   "metadata": {},
   "source": [
    "##### 3.4.3 Note\n",
    "Try to use the zoom tool. Did you find anything?\n",
    "\n",
    "Yes, the rendering speed is pretty slow when you change the zoom level. This is because there are large numbers of polygons in this dataset. This is one of the common downside of using `Bokeh` to visualize large datasets. `Boekh` provides some solution to improve such situation.  \n",
    "1. **Enable WebGL** : WebGL is a JavaScript API that allows rendering content in the browser via the Graphics Processing Unit (GPU), without the need for plugins. WebGL is standardized and available in all modern browsers. To enable WebGL, set the plots' `output_backend` property to \"webgl\"\n",
    "```python\n",
    "p = figure(output_backend = \"webgl\")\n",
    "```\n",
    "However, only a subset of Bokeh's objects are capable of rendering in WebGL. Currently supported are the circle and line glyphs, and most markers supported by `scatter()`.\n",
    "\n",
    "\n",
    "2. **Controlling Level of Detail**: In order to accommodate large-ish data sizes, `Bokeh` plots offer \"Level of Detail\" (LOD) capability in the client. The basic idea is that during interactive operations, the plot only draws some small fraction of data points. Four properties that control LOD behavior:\n",
    "```python\n",
    "lod_factor, lod_interval, lod_threshold, lod_timeout\n",
    "```\n",
    "However, this only works on point data. \n",
    "\n",
    "While above solutions are not applicable in polygon(patche) cases, you should keep these in mind. These will come in handy when you want to plot large point or line datasets. "
   ]
  },
  {
   "cell_type": "markdown",
   "metadata": {},
   "source": [
    "### 4. Conclusion\n",
    "In this tutorial, we walked through the basic introduction of Python `Bokeh` and several examples of using it with `Geopandas` to create interactive maps. This tutorial only scratchs the surface of `Bokeh` and you are encouraged to explore more possibilities by yourself.\n",
    "\n",
    "Thank you for reading this tutorial. If you have trouble reproducing the steps, or if you find any problem, let me know by sending email to this address lin00297@umn.edu"
   ]
  }
 ],
 "metadata": {
  "kernelspec": {
   "display_name": "Python 3",
   "language": "python",
   "name": "python3"
  },
  "language_info": {
   "codemirror_mode": {
    "name": "ipython",
    "version": 3
   },
   "file_extension": ".py",
   "mimetype": "text/x-python",
   "name": "python",
   "nbconvert_exporter": "python",
   "pygments_lexer": "ipython3",
   "version": "3.7.7"
  },
  "toc": {
   "base_numbering": 1,
   "nav_menu": {},
   "number_sections": false,
   "sideBar": true,
   "skip_h1_title": false,
   "title_cell": "Table of Contents",
   "title_sidebar": "Contents",
   "toc_cell": false,
   "toc_position": {
    "height": "calc(100% - 180px)",
    "left": "10px",
    "top": "150px",
    "width": "288px"
   },
   "toc_section_display": true,
   "toc_window_display": false
  },
  "varInspector": {
   "cols": {
    "lenName": 16,
    "lenType": 16,
    "lenVar": 40
   },
   "kernels_config": {
    "python": {
     "delete_cmd_postfix": "",
     "delete_cmd_prefix": "del ",
     "library": "var_list.py",
     "varRefreshCmd": "print(var_dic_list())"
    },
    "r": {
     "delete_cmd_postfix": ") ",
     "delete_cmd_prefix": "rm(",
     "library": "var_list.r",
     "varRefreshCmd": "cat(var_dic_list()) "
    }
   },
   "types_to_exclude": [
    "module",
    "function",
    "builtin_function_or_method",
    "instance",
    "_Feature"
   ],
   "window_display": false
  }
 },
 "nbformat": 4,
 "nbformat_minor": 4
}
